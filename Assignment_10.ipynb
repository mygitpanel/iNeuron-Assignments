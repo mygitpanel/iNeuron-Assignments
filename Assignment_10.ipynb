{
 "cells": [
  {
   "cell_type": "markdown",
   "metadata": {},
   "source": [
    "# Q1:- How do you distinguish between shutil.copy() and shutil.copytree()?"
   ]
  },
  {
   "cell_type": "code",
   "execution_count": 1,
   "metadata": {},
   "outputs": [],
   "source": [
    "# Shutil module in python provides many functions of high level operations on files and collection of files. It comes under python's standard utility module.\n",
    "# This is module helps in automating process of copyting and removal of files and directories."
   ]
  },
  {
   "cell_type": "code",
   "execution_count": 2,
   "metadata": {},
   "outputs": [],
   "source": [
    "# shutil.copy() :- used to copy the content of source file to destination file or directory.\n",
    "# it also preserves the file perission mode bu other metadata of the file like file's creation and modification time not preserved.\n",
    "# source must represent a file but destination can be a file or directory."
   ]
  },
  {
   "cell_type": "code",
   "execution_count": 3,
   "metadata": {},
   "outputs": [],
   "source": [
    "# shutil.copytree():- It recursively copies an entire directory tree rooted at source to the destination directory.\n",
    "# The destination directory named by must not already exist. It will be created during copying.\n",
    "# Permissions and times of directories are copied with copystat() and individual files are copied using shutil.copy2()."
   ]
  },
  {
   "cell_type": "markdown",
   "metadata": {},
   "source": [
    "# Q2:- What function is used to rename files?"
   ]
  },
  {
   "cell_type": "code",
   "execution_count": 4,
   "metadata": {},
   "outputs": [],
   "source": [
    "# os.rename() used to rename a file or directory. This method renames a source file/directory to specified destination file/directory.\n",
    "# shutil.move() as well."
   ]
  },
  {
   "cell_type": "markdown",
   "metadata": {},
   "source": [
    "# Q3:- . What is the difference between the delete functions in the send2trash and shutil modules?"
   ]
  },
  {
   "cell_type": "code",
   "execution_count": 5,
   "metadata": {},
   "outputs": [],
   "source": [
    "# send2trash :- move file and folders to recycle bin.\n",
    "# shutil :- Permanantly delete files and folders."
   ]
  },
  {
   "cell_type": "markdown",
   "metadata": {},
   "source": [
    "# Q4:- ZipFile objects have a close() method just like File objects’ close() method. What ZipFile method is equivalent to File objects’ open() method?"
   ]
  },
  {
   "cell_type": "code",
   "execution_count": 6,
   "metadata": {},
   "outputs": [],
   "source": [
    "# zipfile.zipfile() is equivalent to File objects’ open() method.\n",
    "\n",
    "#  zipfile.zipfile('filename',read | write | append)"
   ]
  },
  {
   "cell_type": "markdown",
   "metadata": {},
   "source": [
    "# Q5:- Create a programme that searches a folder tree for files with a certain file extension (such as .pdf or .jpg). Copy these files from whatever location they are in to a new folder."
   ]
  },
  {
   "cell_type": "code",
   "execution_count": 12,
   "metadata": {},
   "outputs": [],
   "source": [
    "import os\n",
    "import shutil\n",
    "# modules imported which are required for the program.\n",
    "# I have created 2 folders one is with name 'shutilprogram' and another one is 'destshutilprogram'\n",
    "# I have pasted pdf and jpg files in 'shutilprogram' folder"
   ]
  },
  {
   "cell_type": "code",
   "execution_count": 22,
   "metadata": {},
   "outputs": [
    {
     "name": "stdout",
     "output_type": "stream",
     "text": [
      "C:\\Users\\rsharma421\\shutilprogram\n"
     ]
    }
   ],
   "source": [
    "folder = os.path.abspath('shutilprogram')  # getting absolute path of shutilprogram folder using os module\n",
    "print(folder)\n",
    "extensions = ['.jpg','.Jpg','.pdf']  # added extension in variable"
   ]
  },
  {
   "cell_type": "code",
   "execution_count": 23,
   "metadata": {},
   "outputs": [
    {
     "name": "stdout",
     "output_type": "stream",
     "text": [
      "copying  C:\\Users\\rsharma421\\shutilprogram\\20190215_1731539.jpg to  destshutilprogram\n",
      "copying  C:\\Users\\rsharma421\\shutilprogram\\20210113_084940.jpg to  destshutilprogram\n",
      "copying  C:\\Users\\rsharma421\\shutilprogram\\Revised form 13.pdf to  destshutilprogram\n"
     ]
    }
   ],
   "source": [
    "for foldername, subfolder, filenames in os.walk(folder):   #for loop used to get into subfolders and all the files\n",
    "        for filename in filenames:                         #all the files in filenames so using for loop to loop each file\n",
    "            name, extension = os.path.splitext(filename)   # spliting filename so that I should have name and extension of file\n",
    "            if extension in extensions:                    # checking that extension of file is listed in extensions list   \n",
    "                abspath = foldername + os.path.sep + filename  # creating proper file path\n",
    "                print('copying ', abspath,'to ', destination)\n",
    "                shutil.copy(abspath, destination)              # copy files using shutil.copy() to destination folder\n",
    "                \n",
    "                \n",
    "# Program runs successfully and all the files copied to destination folder."
   ]
  },
  {
   "cell_type": "code",
   "execution_count": null,
   "metadata": {},
   "outputs": [],
   "source": []
  },
  {
   "cell_type": "code",
   "execution_count": null,
   "metadata": {},
   "outputs": [],
   "source": []
  }
 ],
 "metadata": {
  "kernelspec": {
   "display_name": "Python 3",
   "language": "python",
   "name": "python3"
  },
  "language_info": {
   "codemirror_mode": {
    "name": "ipython",
    "version": 3
   },
   "file_extension": ".py",
   "mimetype": "text/x-python",
   "name": "python",
   "nbconvert_exporter": "python",
   "pygments_lexer": "ipython3",
   "version": "3.8.5"
  }
 },
 "nbformat": 4,
 "nbformat_minor": 4
}
