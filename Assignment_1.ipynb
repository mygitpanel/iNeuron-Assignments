{
 "cells": [
  {
   "cell_type": "markdown",
   "metadata": {},
   "source": [
    "# Q1 :- What are the differences between operators and values in the following?\n",
    "\n",
    "*\n",
    "'hello'\n",
    "-87.8\n",
    "-\n",
    "/\n",
    "+\n",
    "6\n",
    "\n"
   ]
  },
  {
   "cell_type": "markdown",
   "metadata": {},
   "source": [
    "# *\n",
    "please see below row for explanation..."
   ]
  },
  {
   "cell_type": "code",
   "execution_count": 1,
   "metadata": {},
   "outputs": [
    {
     "data": {
      "text/plain": [
       "' *  :- This is the part of arithmetic operations and asterick operator basically used for multiplication similar like used in Math.  '"
      ]
     },
     "execution_count": 1,
     "metadata": {},
     "output_type": "execute_result"
    }
   ],
   "source": [
    "''' *  :- This is the part of arithmetic operations and asterick operator basically used for multiplication similar like used in Math.  '''"
   ]
  },
  {
   "cell_type": "code",
   "execution_count": 2,
   "metadata": {},
   "outputs": [
    {
     "name": "stdout",
     "output_type": "stream",
     "text": [
      "Please enter first number12\n",
      "Please enter second number12\n",
      "144\n"
     ]
    }
   ],
   "source": [
    "# Example of using asterick :-\n",
    "\n",
    "num1 = int(input(\"Please enter first number\"))  #assigned input value entered by user to variable num1. As input default always the string so int() used for parsing the number from string to int....\n",
    "num2 = int(input(\"Please enter second number\"))  #assigned input value entered by user to variable num2. As input default always the string so int() used for parsing the number from string to int....\n",
    "result = num1 * num2                              #multiplication performed on operand num1 and num2 by using asterick operator and output asigned to variable result...\n",
    "print(result)                                      #here showing output using print() inbuilt function.."
   ]
  },
  {
   "cell_type": "markdown",
   "metadata": {},
   "source": [
    "# 'hello'\n",
    "\n",
    "please see below row for explanation..."
   ]
  },
  {
   "cell_type": "code",
   "execution_count": 3,
   "metadata": {},
   "outputs": [],
   "source": [
    "# 'hello'  :- This is the simple string value and as string is always immutable(means we can't change the value)."
   ]
  },
  {
   "cell_type": "code",
   "execution_count": 13,
   "metadata": {},
   "outputs": [
    {
     "name": "stdout",
     "output_type": "stream",
     "text": [
      "hello\n"
     ]
    }
   ],
   "source": [
    "message = 'hello'   #here defaukt string value assigned to variable message.\n",
    "type(message)        #here type is checked of the value which is inside the variable message\n",
    "print(message)       #here print function used to show the output."
   ]
  },
  {
   "cell_type": "markdown",
   "metadata": {},
   "source": [
    "# -87.8\n",
    "\n",
    "please see below explanation.."
   ]
  },
  {
   "cell_type": "code",
   "execution_count": 14,
   "metadata": {},
   "outputs": [],
   "source": [
    "# -87.8  :- This is the floating type number or value."
   ]
  },
  {
   "cell_type": "code",
   "execution_count": 15,
   "metadata": {},
   "outputs": [
    {
     "data": {
      "text/plain": [
       "float"
      ]
     },
     "execution_count": 15,
     "metadata": {},
     "output_type": "execute_result"
    }
   ],
   "source": [
    "type(-87.8)"
   ]
  },
  {
   "cell_type": "markdown",
   "metadata": {},
   "source": [
    "# -, /, +\n",
    "\n",
    "please see the below explantion..."
   ]
  },
  {
   "cell_type": "code",
   "execution_count": 16,
   "metadata": {},
   "outputs": [],
   "source": [
    "#  - :  This is also the part of arithmetic operations and basically used for minus operations between two operands.\n",
    "#  / :  This is also the part of arithmetic operations and basically used for division operations between two operands.\n",
    "#  + :  This is also the part of arithmetic operations and basically used for Addition operations between two operands."
   ]
  },
  {
   "cell_type": "code",
   "execution_count": 17,
   "metadata": {},
   "outputs": [
    {
     "name": "stdout",
     "output_type": "stream",
     "text": [
      "Please enter first number12\n",
      "Please enter second number8\n",
      "4\n",
      "1.5\n",
      "20\n"
     ]
    }
   ],
   "source": [
    "# Example of using -, /, + :-\n",
    "\n",
    "num1 = int(input(\"Please enter first number\"))  #assigned input value entered by user to variable num1. As input default always the string so int() used for parsing the number from string to int....\n",
    "num2 = int(input(\"Please enter second number\"))  #assigned input value entered by user to variable num2. As input default always the string so int() used for parsing the number from string to int....\n",
    "\n",
    "minus_result = num1 - num2                              #minus operation performed on operand num1 and num2 by using minus (-) operator and output asigned to variable minus_result...\n",
    "print(minus_result)                                              #here showing output using print() inbuilt function..\n",
    "\n",
    "division_result = num1 / num2                              #minus operation performed on operand num1 and num2 by using division (/) operator and output asigned to variable division_result...\n",
    "print(division_result)                                                 #here showing output using print() inbuilt function..\n",
    "\n",
    "addition_result = num1 + num2                              #minus operation performed on operand num1 and num2 by using addition (+) operator and output asigned to variable addition_result...\n",
    "print(addition_result)                                                 #here showing output using print() inbuilt function.."
   ]
  },
  {
   "cell_type": "markdown",
   "metadata": {},
   "source": [
    "# 6\n",
    "\n",
    "Please see below explanation.."
   ]
  },
  {
   "cell_type": "code",
   "execution_count": 18,
   "metadata": {},
   "outputs": [],
   "source": [
    "# 6 :- This is the integer type value."
   ]
  },
  {
   "cell_type": "code",
   "execution_count": 19,
   "metadata": {},
   "outputs": [
    {
     "data": {
      "text/plain": [
       "int"
      ]
     },
     "execution_count": 19,
     "metadata": {},
     "output_type": "execute_result"
    }
   ],
   "source": [
    "type(6)"
   ]
  },
  {
   "cell_type": "code",
   "execution_count": null,
   "metadata": {},
   "outputs": [],
   "source": []
  },
  {
   "cell_type": "markdown",
   "metadata": {},
   "source": [
    "# Q2 :- What is the difference between string and variable?\n",
    "\n",
    "spam\n",
    "\n",
    "\n",
    "'spam'\n"
   ]
  },
  {
   "cell_type": "code",
   "execution_count": 20,
   "metadata": {},
   "outputs": [],
   "source": [
    "# variable :- variable is like used to store or hold the value in memory so that later we can use that value according to our need or requirement. We can assign any value to variable and type of that value is automatically decided by python interpreter. or we have options to typecast the value later.\n",
    "# string :-   string is the value that might be in single quotes or double quotes.\n"
   ]
  },
  {
   "cell_type": "code",
   "execution_count": 24,
   "metadata": {},
   "outputs": [
    {
     "name": "stdout",
     "output_type": "stream",
     "text": [
      "spam\n"
     ]
    }
   ],
   "source": [
    "spam = 'spam'   # here we have spam is variable used to hold or store data 'spam' (string value 'spam').\n",
    "print(spam)      # here we are using spam variable to print or displaying the value using inbuilt print() function."
   ]
  },
  {
   "cell_type": "code",
   "execution_count": null,
   "metadata": {},
   "outputs": [],
   "source": []
  },
  {
   "cell_type": "markdown",
   "metadata": {},
   "source": [
    "# Q3 :- Describe three different data forms?\n",
    "\n",
    "please see below explanation.."
   ]
  },
  {
   "cell_type": "code",
   "execution_count": 25,
   "metadata": {},
   "outputs": [],
   "source": [
    "#We have three main data forms.\n",
    "# 1>  Qualitative and Quantitative.\n",
    "# 2>  Continuous and Discrete Data.\n",
    "# 3>  Primary and Secondary Data."
   ]
  },
  {
   "cell_type": "code",
   "execution_count": 29,
   "metadata": {},
   "outputs": [],
   "source": [
    "# Quatitative:- this data is like numerical data like numbers 1,2,3...."
   ]
  },
  {
   "cell_type": "code",
   "execution_count": 35,
   "metadata": {},
   "outputs": [],
   "source": [
    "# Qualitative data:- is discriptive data based on observations. qualitative data includes numbers, words.\n",
    "# It basically involves 5 senses like see, feel, taste, hear, smell"
   ]
  },
  {
   "cell_type": "code",
   "execution_count": 36,
   "metadata": {},
   "outputs": [],
   "source": [
    "# Discrete Data:- the data which is specific number or counting only means integer number only for examle\n",
    "# Anything can be counted is discrete data.\n",
    "# 2.5 cats - this is not discrete data as this is not possible.\n",
    "# 2 cats - this is proper discrete data as this is possible foresure."
   ]
  },
  {
   "cell_type": "code",
   "execution_count": 37,
   "metadata": {},
   "outputs": [],
   "source": [
    "# Continuous Data:- the data which is showing some kind of distance from point A to Point B and it could be anything in distance.\n",
    "# Anything can be measured is continuous data like distance, speed, weight.\n",
    "# example :- from A to B --  distance is 4.7 Meter or 5Meter or 5.5 Meter.\n",
    "# so this is continuous data."
   ]
  },
  {
   "cell_type": "code",
   "execution_count": 38,
   "metadata": {},
   "outputs": [],
   "source": [
    "#Primary Data :- refers to the data collected by the researcher, for the versy first time, from different sources with a particular problem.\n",
    "#Secondary Data :- collected by any person, organization or agency in the past through surveys, experiment or study for some other purpose but used by the researcher to deal with the problem."
   ]
  },
  {
   "cell_type": "code",
   "execution_count": null,
   "metadata": {},
   "outputs": [],
   "source": [
    "# This question is little bit confusing\n",
    "\n",
    "#if you are talking about data types then \n",
    "# we do have data types in python\n",
    "\n",
    "# integer\n",
    "# floating oint number\n",
    "# string"
   ]
  },
  {
   "cell_type": "markdown",
   "metadata": {},
   "source": [
    "# Q4 :- What makes up an expression? What are the functions of all expressions.\n",
    "    \n",
    "Please see below explanation.."
   ]
  },
  {
   "cell_type": "code",
   "execution_count": 27,
   "metadata": {},
   "outputs": [],
   "source": [
    "# Represenatation of value is an expression. Expressions represen something like a number, a string or instance of a class. \n",
    "# Any assignment to a variable or function is a statement and value contained in that statement is an expression.\n",
    "# Any string is also an expression since it represents the value of the string as well.\n",
    "# Python expressions contains identifiers, literals, and operators.\n",
    "# A sequence of operands and operators, like a+b-5 is called an expression.\n"
   ]
  },
  {
   "cell_type": "code",
   "execution_count": 37,
   "metadata": {},
   "outputs": [],
   "source": [
    "#Few types of python expression:-\n",
    "\n",
    "# List Comprehension\n",
    "# Dictionary comprehension\n",
    "# Arithmetic Expressions\n",
    "# Relational Expressions\n",
    "# String Expressions\n",
    "# logical Expressions\n",
    "# Compound Expressions\n",
    "\n",
    "#Functions of an Expression:-\n",
    "# type(), find(), split(), upper(), lower(), strip(), lstrip(), rstrip(), replace(), join(), swapcase()"
   ]
  },
  {
   "cell_type": "code",
   "execution_count": 38,
   "metadata": {},
   "outputs": [
    {
     "data": {
      "text/plain": [
       "[0, 1, 2, 3, 4, 5, 6, 7, 8, 9, 10, 11, 12, 13, 14, 15, 16, 17, 18, 19]"
      ]
     },
     "execution_count": 38,
     "metadata": {},
     "output_type": "execute_result"
    }
   ],
   "source": [
    "# below code get all the numbers within 20 and puth them in a list\n",
    "[num for num in range(20)]   #Example of List comprehension"
   ]
  },
  {
   "cell_type": "code",
   "execution_count": 39,
   "metadata": {},
   "outputs": [
    {
     "data": {
      "text/plain": [
       "{0: 0, 1: 1, 2: 4, 3: 9, 4: 16, 5: 25, 6: 36, 7: 49, 8: 64, 9: 81}"
      ]
     },
     "execution_count": 39,
     "metadata": {},
     "output_type": "execute_result"
    }
   ],
   "source": [
    "# below code set numbers within 10 as key and square of the number as value\n",
    "{num:num**2 for num in range(10)}  # Example of dictionary comprehension"
   ]
  },
  {
   "cell_type": "code",
   "execution_count": 41,
   "metadata": {},
   "outputs": [
    {
     "name": "stdout",
     "output_type": "stream",
     "text": [
      "30\n"
     ]
    }
   ],
   "source": [
    "#Arithmetic Expression example below ;-\n",
    "num1 = 10\n",
    "num2 = 20\n",
    "result = num1 + num2   # This is the Arithmetic expression..\n",
    "print(result)\n"
   ]
  },
  {
   "cell_type": "code",
   "execution_count": null,
   "metadata": {},
   "outputs": [],
   "source": []
  },
  {
   "cell_type": "markdown",
   "metadata": {},
   "source": [
    "# Q5:- In this chapter, assignment statements such as spam = 10 were added. What's the difference between a declaration and an expression?\n",
    "    \n",
    "    Please see below explanation"
   ]
  },
  {
   "cell_type": "code",
   "execution_count": 1,
   "metadata": {},
   "outputs": [],
   "source": [
    "# Declarations are loaded before any code can run while expressions load only when the interpreter reaches that line of code."
   ]
  },
  {
   "cell_type": "code",
   "execution_count": null,
   "metadata": {},
   "outputs": [],
   "source": []
  },
  {
   "cell_type": "markdown",
   "metadata": {},
   "source": [
    "# Q6:- After running the following code, what does the variable bacon contain?\n",
    "bacon = 22\n",
    "\n",
    "\n",
    "bacon + 1\n"
   ]
  },
  {
   "cell_type": "code",
   "execution_count": 3,
   "metadata": {},
   "outputs": [
    {
     "data": {
      "text/plain": [
       "23"
      ]
     },
     "execution_count": 3,
     "metadata": {},
     "output_type": "execute_result"
    }
   ],
   "source": [
    "bacon = 22\n",
    "bacon+1      # bacon contain 23 as result..."
   ]
  },
  {
   "cell_type": "code",
   "execution_count": null,
   "metadata": {},
   "outputs": [],
   "source": []
  },
  {
   "cell_type": "markdown",
   "metadata": {},
   "source": [
    "# Q7:- What should the values of the following two terms be?\n",
    "\n",
    "'spam' + 'spamspam'\n",
    "\n",
    "'spam' * 3\n"
   ]
  },
  {
   "cell_type": "code",
   "execution_count": 4,
   "metadata": {},
   "outputs": [
    {
     "data": {
      "text/plain": [
       "'spamspamspam'"
      ]
     },
     "execution_count": 4,
     "metadata": {},
     "output_type": "execute_result"
    }
   ],
   "source": [
    "'spam' + 'spamspam'"
   ]
  },
  {
   "cell_type": "code",
   "execution_count": 5,
   "metadata": {},
   "outputs": [
    {
     "data": {
      "text/plain": [
       "'spamspamspam'"
      ]
     },
     "execution_count": 5,
     "metadata": {},
     "output_type": "execute_result"
    }
   ],
   "source": [
    "'spam'*3"
   ]
  },
  {
   "cell_type": "code",
   "execution_count": 6,
   "metadata": {},
   "outputs": [],
   "source": [
    "#both two terms returning the same values like 'spamspamspam'."
   ]
  },
  {
   "cell_type": "code",
   "execution_count": null,
   "metadata": {},
   "outputs": [],
   "source": []
  },
  {
   "cell_type": "markdown",
   "metadata": {},
   "source": [
    "# Q8:-Why is it that eggs is a true variable name but 100 is not?"
   ]
  },
  {
   "cell_type": "code",
   "execution_count": 9,
   "metadata": {},
   "outputs": [],
   "source": [
    "#As per variable declaration rules:-\n",
    "\n",
    "# 1> Variable name must start with the letter or the underscore character.\n",
    "# 2> Variable name cannot start with a number\n",
    "# 3> Variable name can only contain alphanumeric, alpha ad underscores."
   ]
  },
  {
   "cell_type": "code",
   "execution_count": 11,
   "metadata": {},
   "outputs": [
    {
     "name": "stdout",
     "output_type": "stream",
     "text": [
      "demo\n"
     ]
    }
   ],
   "source": [
    "eggs = 'demo'\n",
    "print(eggs)   # this code will return the output as string demo."
   ]
  },
  {
   "cell_type": "code",
   "execution_count": 13,
   "metadata": {},
   "outputs": [
    {
     "ename": "SyntaxError",
     "evalue": "cannot assign to literal (<ipython-input-13-08bd75fcb703>, line 1)",
     "output_type": "error",
     "traceback": [
      "\u001b[1;36m  File \u001b[1;32m\"<ipython-input-13-08bd75fcb703>\"\u001b[1;36m, line \u001b[1;32m1\u001b[0m\n\u001b[1;33m    100 = 'demo'\u001b[0m\n\u001b[1;37m    ^\u001b[0m\n\u001b[1;31mSyntaxError\u001b[0m\u001b[1;31m:\u001b[0m cannot assign to literal\n"
     ]
    }
   ],
   "source": [
    "100 = 'demo'\n",
    "print(100)   # this will throw an error as cannot assign to literals"
   ]
  },
  {
   "cell_type": "code",
   "execution_count": null,
   "metadata": {},
   "outputs": [],
   "source": []
  },
  {
   "cell_type": "markdown",
   "metadata": {},
   "source": [
    "# Q9:- Which of the following three functions may be used to convert a value to an integer, a floating-point number, or a string?"
   ]
  },
  {
   "cell_type": "code",
   "execution_count": 20,
   "metadata": {},
   "outputs": [
    {
     "data": {
      "text/plain": [
       "100"
      ]
     },
     "execution_count": 20,
     "metadata": {},
     "output_type": "execute_result"
    }
   ],
   "source": [
    "num = '100'  # assigned string value to num\n",
    "int(num)     # conversion done using inbuilt int() function"
   ]
  },
  {
   "cell_type": "code",
   "execution_count": 21,
   "metadata": {},
   "outputs": [
    {
     "data": {
      "text/plain": [
       "'100'"
      ]
     },
     "execution_count": 21,
     "metadata": {},
     "output_type": "execute_result"
    }
   ],
   "source": [
    "num = 100   # assigned int value to num\n",
    "str(num)     # conversion done using inbuilt str() function"
   ]
  },
  {
   "cell_type": "code",
   "execution_count": 25,
   "metadata": {},
   "outputs": [
    {
     "data": {
      "text/plain": [
       "-87.8"
      ]
     },
     "execution_count": 25,
     "metadata": {},
     "output_type": "execute_result"
    }
   ],
   "source": [
    "num = '-87.8'  # assigned string value to num\n",
    "float(num)      # conversion done using inbuilt float() function"
   ]
  },
  {
   "cell_type": "code",
   "execution_count": null,
   "metadata": {},
   "outputs": [],
   "source": []
  },
  {
   "cell_type": "markdown",
   "metadata": {},
   "source": [
    "# Q10:- . What is the error caused by this expression? What would you do about it?\n",
    "\n",
    "'I have eaten ' + 99 + ' burritos.'\n"
   ]
  },
  {
   "cell_type": "code",
   "execution_count": 27,
   "metadata": {},
   "outputs": [
    {
     "ename": "TypeError",
     "evalue": "can only concatenate str (not \"int\") to str",
     "output_type": "error",
     "traceback": [
      "\u001b[1;31m---------------------------------------------------------------------------\u001b[0m",
      "\u001b[1;31mTypeError\u001b[0m                                 Traceback (most recent call last)",
      "\u001b[1;32m<ipython-input-27-cf69330bfbae>\u001b[0m in \u001b[0;36m<module>\u001b[1;34m\u001b[0m\n\u001b[0;32m      1\u001b[0m \u001b[1;31m# here we are trying to concatenate integer with string so it will throw an error. To made this operation success simply convert int value 99 to string.\u001b[0m\u001b[1;33m\u001b[0m\u001b[1;33m\u001b[0m\u001b[1;33m\u001b[0m\u001b[0m\n\u001b[1;32m----> 2\u001b[1;33m \u001b[1;34m'I have eaten '\u001b[0m \u001b[1;33m+\u001b[0m \u001b[1;36m99\u001b[0m \u001b[1;33m+\u001b[0m \u001b[1;34m' burritos.'\u001b[0m\u001b[1;33m\u001b[0m\u001b[1;33m\u001b[0m\u001b[0m\n\u001b[0m",
      "\u001b[1;31mTypeError\u001b[0m: can only concatenate str (not \"int\") to str"
     ]
    }
   ],
   "source": [
    "# here we are trying to concatenate integer with string so it will throw an error. To made this operation success simply convert int value 99 to string.\n",
    "'I have eaten ' + 99 + ' burritos.'"
   ]
  },
  {
   "cell_type": "code",
   "execution_count": 28,
   "metadata": {},
   "outputs": [
    {
     "data": {
      "text/plain": [
       "'I have eaten 99 burritos.'"
      ]
     },
     "execution_count": 28,
     "metadata": {},
     "output_type": "execute_result"
    }
   ],
   "source": [
    "# This is how we can easily overcome the above issue\n",
    "\n",
    "'I have eaten ' + str(99) + ' burritos.'"
   ]
  },
  {
   "cell_type": "code",
   "execution_count": null,
   "metadata": {},
   "outputs": [],
   "source": []
  }
 ],
 "metadata": {
  "kernelspec": {
   "display_name": "Python 3",
   "language": "python",
   "name": "python3"
  },
  "language_info": {
   "codemirror_mode": {
    "name": "ipython",
    "version": 3
   },
   "file_extension": ".py",
   "mimetype": "text/x-python",
   "name": "python",
   "nbconvert_exporter": "python",
   "pygments_lexer": "ipython3",
   "version": "3.8.5"
  }
 },
 "nbformat": 4,
 "nbformat_minor": 4
}
