{
 "cells": [
  {
   "cell_type": "markdown",
   "metadata": {},
   "source": [
    "# Q1:- Why are functions advantageous to have in your programs?"
   ]
  },
  {
   "cell_type": "code",
   "execution_count": 8,
   "metadata": {},
   "outputs": [],
   "source": [
    "#Having functions in program is a good practice we can say as function saves lot of time or prevent to writing same code multiple time.\n",
    "# simply create a function and keep the functionality inside the function which is repetetive or occurs multiple places or files.\n",
    "# function simply break our programs into smaller.\n",
    "# While we working on Real world applications that time function help us a lot to manage our code easily.\n",
    "# def keyword is used to create a function. see below example please."
   ]
  },
  {
   "cell_type": "code",
   "execution_count": 4,
   "metadata": {},
   "outputs": [],
   "source": [
    "def sum(a,b):\n",
    "    return a+b;   #here we have created function named sum and we ca call this function whereever we required sum of two numbers."
   ]
  },
  {
   "cell_type": "code",
   "execution_count": 5,
   "metadata": {},
   "outputs": [
    {
     "name": "stdout",
     "output_type": "stream",
     "text": [
      "8\n"
     ]
    }
   ],
   "source": [
    "result = sum(3,5)   # here we are calling the function and storing the value returned by the function in result variable.\n",
    "print(result)       # simply print the result to display the output."
   ]
  },
  {
   "cell_type": "markdown",
   "metadata": {},
   "source": [
    "# Q2:- When does the code in a function run: when it's specified or when it's called?"
   ]
  },
  {
   "cell_type": "code",
   "execution_count": 7,
   "metadata": {},
   "outputs": [
    {
     "data": {
      "text/plain": [
       "11"
      ]
     },
     "execution_count": 7,
     "metadata": {},
     "output_type": "execute_result"
    }
   ],
   "source": [
    "# function code always run when we call the function. To call the function simply type function name and provide required parameters if specified in function declaration.\n",
    "# when we call the function that time interpreter get inside the function block and execute it accordinly whatever we define in block statement.\n",
    "# if there is any exception then interpreter simply throw an exception\n",
    "# We can call function in another function as well so whenever we want to prevent to write duplicate code again and again so simply add that functionality inside the function block and call the function whereever required. \n",
    "sum(5,6) #here I am calling function sum and providing required parameters."
   ]
  },
  {
   "cell_type": "markdown",
   "metadata": {},
   "source": [
    "# Q3:- What statement creates a function?\n",
    "\n"
   ]
  },
  {
   "cell_type": "code",
   "execution_count": 9,
   "metadata": {},
   "outputs": [],
   "source": [
    "# To Create a function see below example\n",
    "\n",
    "def function_creation():\n",
    "    # define function body or code block here\n",
    "    print('Rahul Sharma')"
   ]
  },
  {
   "cell_type": "code",
   "execution_count": 10,
   "metadata": {},
   "outputs": [
    {
     "name": "stdout",
     "output_type": "stream",
     "text": [
      "Rahul Sharma\n"
     ]
    }
   ],
   "source": [
    "function_creation()"
   ]
  },
  {
   "cell_type": "markdown",
   "metadata": {},
   "source": [
    "# Q4:- What is the difference between a function and a function call?"
   ]
  },
  {
   "cell_type": "code",
   "execution_count": 11,
   "metadata": {},
   "outputs": [],
   "source": [
    "#function - function is a code block or group of code blocks and having a name used to achieve particular result.\n",
    "#function call - function call basically tells the interpreter that execute that function and provide particular result set or to achieve particular result set.\n",
    "\n",
    "# if we create any function there is no use of that till the time we don't call that function."
   ]
  },
  {
   "cell_type": "code",
   "execution_count": 12,
   "metadata": {},
   "outputs": [],
   "source": [
    "def printname(name):    #here we are creating the function to print the name\n",
    "    print(name)"
   ]
  },
  {
   "cell_type": "code",
   "execution_count": 13,
   "metadata": {},
   "outputs": [
    {
     "name": "stdout",
     "output_type": "stream",
     "text": [
      "Rahul Sharma\n"
     ]
    }
   ],
   "source": [
    "printname('Rahul Sharma') #here we are calling the function to achieve the output"
   ]
  },
  {
   "cell_type": "code",
   "execution_count": null,
   "metadata": {},
   "outputs": [],
   "source": []
  },
  {
   "cell_type": "markdown",
   "metadata": {},
   "source": [
    "# Q5:- How many global scopes are there in a Python program? How many local scopes?"
   ]
  },
  {
   "cell_type": "code",
   "execution_count": 14,
   "metadata": {},
   "outputs": [],
   "source": [
    "# There is only one global scope per program execution. This scope remains in existence until the program terminates.\n",
    "# When you use an unqualified name inside a function, python searches three scopes the local(L), Global(G), Built-in(B) and stops at the first place name is found.\n"
   ]
  },
  {
   "cell_type": "markdown",
   "metadata": {},
   "source": [
    "# Q6:- What happens to variables in a local scope when the function call returns?"
   ]
  },
  {
   "cell_type": "code",
   "execution_count": 15,
   "metadata": {},
   "outputs": [],
   "source": [
    "# Whenever we defined the variable inside the function, it's scope lies only within that function.\n",
    "# It is accessible only at the point where we have defined variable and until the end of the function.\n",
    "# it's value can not be changed or can not be accessed from outside the function.\n",
    "# example below--"
   ]
  },
  {
   "cell_type": "code",
   "execution_count": 19,
   "metadata": {},
   "outputs": [],
   "source": [
    "def test_scope():\n",
    "    num=100\n",
    "    print(num)  # here created functio test_scope and defined variable num, assigned value 100 to num and I am able to access num variable till last line of function"
   ]
  },
  {
   "cell_type": "code",
   "execution_count": 20,
   "metadata": {},
   "outputs": [
    {
     "name": "stdout",
     "output_type": "stream",
     "text": [
      "100\n"
     ]
    }
   ],
   "source": [
    "test_scope() # function called and it prints 100 as it stored in num"
   ]
  },
  {
   "cell_type": "code",
   "execution_count": 21,
   "metadata": {},
   "outputs": [
    {
     "ename": "NameError",
     "evalue": "name 'num' is not defined",
     "output_type": "error",
     "traceback": [
      "\u001b[1;31m---------------------------------------------------------------------------\u001b[0m",
      "\u001b[1;31mNameError\u001b[0m                                 Traceback (most recent call last)",
      "\u001b[1;32m<ipython-input-21-92dfb14f4620>\u001b[0m in \u001b[0;36m<module>\u001b[1;34m\u001b[0m\n\u001b[1;32m----> 1\u001b[1;33m \u001b[0mnum\u001b[0m  \u001b[1;31m# now I am trying to access the variable outside the function but getting error.\u001b[0m\u001b[1;33m\u001b[0m\u001b[1;33m\u001b[0m\u001b[0m\n\u001b[0m",
      "\u001b[1;31mNameError\u001b[0m: name 'num' is not defined"
     ]
    }
   ],
   "source": [
    "num  # now I am trying to access the variable outside the function but getting error."
   ]
  },
  {
   "cell_type": "markdown",
   "metadata": {},
   "source": [
    "# Q7:- What is the concept of a return value? Is it possible to have a return value in an expression?"
   ]
  },
  {
   "cell_type": "code",
   "execution_count": 48,
   "metadata": {},
   "outputs": [],
   "source": [
    "#To return value from the function we can use the return statement.\n",
    "#If any statement defined after return statement will not be executed.\n",
    "#If the return statement is without an expression then it returns none.\n",
    "#Yes it is possible to return value in an expresison. See below examples"
   ]
  },
  {
   "cell_type": "code",
   "execution_count": 35,
   "metadata": {},
   "outputs": [],
   "source": [
    "def func(a,b,c):\n",
    "    return a,b,c"
   ]
  },
  {
   "cell_type": "code",
   "execution_count": 36,
   "metadata": {},
   "outputs": [
    {
     "name": "stdout",
     "output_type": "stream",
     "text": [
      "(1, 2, 3)\n"
     ]
    }
   ],
   "source": [
    "result = func(1,2,3)\n",
    "print(result)"
   ]
  },
  {
   "cell_type": "code",
   "execution_count": 37,
   "metadata": {},
   "outputs": [],
   "source": [
    "def func1(a,b,c):\n",
    "    return a*b/c"
   ]
  },
  {
   "cell_type": "code",
   "execution_count": 33,
   "metadata": {},
   "outputs": [
    {
     "name": "stdout",
     "output_type": "stream",
     "text": [
      "4.0\n"
     ]
    }
   ],
   "source": [
    "result = func1(4,2,2)\n",
    "print(result)"
   ]
  },
  {
   "cell_type": "code",
   "execution_count": 41,
   "metadata": {},
   "outputs": [],
   "source": [
    "def fahrenheit(celsius):\n",
    "    return(celsius * 9/5) +32"
   ]
  },
  {
   "cell_type": "code",
   "execution_count": 47,
   "metadata": {},
   "outputs": [
    {
     "name": "stdout",
     "output_type": "stream",
     "text": [
      "22.6 : 72.68\n",
      "25.8 : 78.44\n",
      "27.3 : 81.14\n",
      "29.8 : 85.64\n"
     ]
    }
   ],
   "source": [
    "for values in (22.6,25.8,27.3,29.8):\n",
    "    print(values,  ':' , fahrenheit(values))\n"
   ]
  },
  {
   "cell_type": "markdown",
   "metadata": {},
   "source": [
    "# Q8:-If a function does not have a return statement, what is the return value of a call to that function?"
   ]
  },
  {
   "cell_type": "code",
   "execution_count": 54,
   "metadata": {},
   "outputs": [],
   "source": [
    "# If no return statement appears in a function definition, control automatically returns to the calling function after the last statement.\n",
    "#  It will return None in this case.\n",
    "# See below example"
   ]
  },
  {
   "cell_type": "code",
   "execution_count": 55,
   "metadata": {},
   "outputs": [],
   "source": [
    "def test():\n",
    "    2+4"
   ]
  },
  {
   "cell_type": "code",
   "execution_count": 56,
   "metadata": {},
   "outputs": [
    {
     "name": "stdout",
     "output_type": "stream",
     "text": [
      "None\n"
     ]
    }
   ],
   "source": [
    "result = test()\n",
    "print(result)"
   ]
  },
  {
   "cell_type": "markdown",
   "metadata": {},
   "source": [
    "# Q9:- How do you make a function variable refer to the global variable?"
   ]
  },
  {
   "cell_type": "code",
   "execution_count": 57,
   "metadata": {},
   "outputs": [],
   "source": [
    "#To make a function variable refer to global variable we can use the global keyword to declare which variables are global.\n"
   ]
  },
  {
   "cell_type": "code",
   "execution_count": 62,
   "metadata": {},
   "outputs": [],
   "source": [
    "# see the below example\n",
    "name = 'xyz'\n",
    "def func():\n",
    "    global name\n",
    "    name = 'Rahul Sharma'\n",
    "    print(name)"
   ]
  },
  {
   "cell_type": "code",
   "execution_count": 63,
   "metadata": {},
   "outputs": [
    {
     "name": "stdout",
     "output_type": "stream",
     "text": [
      "Rahul Sharma\n"
     ]
    }
   ],
   "source": [
    "func()"
   ]
  },
  {
   "cell_type": "code",
   "execution_count": 65,
   "metadata": {},
   "outputs": [],
   "source": [
    "def func1():\n",
    "    name='iNeuron'\n",
    "    print(name)"
   ]
  },
  {
   "cell_type": "code",
   "execution_count": 66,
   "metadata": {},
   "outputs": [
    {
     "name": "stdout",
     "output_type": "stream",
     "text": [
      "iNeuron\n"
     ]
    }
   ],
   "source": [
    "func1()"
   ]
  },
  {
   "cell_type": "code",
   "execution_count": 67,
   "metadata": {},
   "outputs": [
    {
     "data": {
      "text/plain": [
       "'Rahul Sharma'"
      ]
     },
     "execution_count": 67,
     "metadata": {},
     "output_type": "execute_result"
    }
   ],
   "source": [
    "name"
   ]
  },
  {
   "cell_type": "code",
   "execution_count": null,
   "metadata": {},
   "outputs": [],
   "source": []
  },
  {
   "cell_type": "markdown",
   "metadata": {},
   "source": [
    "# Q10:- . What is the data type of None?"
   ]
  },
  {
   "cell_type": "code",
   "execution_count": 69,
   "metadata": {},
   "outputs": [
    {
     "data": {
      "text/plain": [
       "NoneType"
      ]
     },
     "execution_count": 69,
     "metadata": {},
     "output_type": "execute_result"
    }
   ],
   "source": [
    "type(None)  #Data of None is Nonetype"
   ]
  },
  {
   "cell_type": "markdown",
   "metadata": {},
   "source": [
    "# Q11:- What does the sentence import areallyourpetsnamederic do?"
   ]
  },
  {
   "cell_type": "code",
   "execution_count": 71,
   "metadata": {},
   "outputs": [],
   "source": [
    "import areallyourpetsnamederic  # here the statement import basically imports the module areallyourpetsnamederic."
   ]
  },
  {
   "cell_type": "markdown",
   "metadata": {},
   "source": [
    "# Q12:- If you had a bacon() feature in a spam module, what would you call it after importing spam?"
   ]
  },
  {
   "cell_type": "code",
   "execution_count": 73,
   "metadata": {},
   "outputs": [],
   "source": [
    "#  import spam\n",
    "#  spam.bacon()"
   ]
  },
  {
   "cell_type": "markdown",
   "metadata": {},
   "source": [
    "# Q13:- What can you do to save a programme from crashing if it encounters an error?"
   ]
  },
  {
   "cell_type": "code",
   "execution_count": 74,
   "metadata": {},
   "outputs": [],
   "source": [
    "# we can simply place our code inside try except block."
   ]
  },
  {
   "cell_type": "markdown",
   "metadata": {},
   "source": [
    "# Q14:- What is the purpose of the try clause? What is the purpose of the except clause?"
   ]
  },
  {
   "cell_type": "code",
   "execution_count": 75,
   "metadata": {},
   "outputs": [],
   "source": [
    "# try :- Normally we put the block of code inside the try if we feel that this code may cause error.\n",
    "# except:- If any exception occurs inside try block then except will handle that exception and save our application from crashing.\n",
    "# we too have many ways to handle exception errors like we create custom error pages in application and also we can write logs in text file."
   ]
  },
  {
   "cell_type": "code",
   "execution_count": null,
   "metadata": {},
   "outputs": [],
   "source": []
  }
 ],
 "metadata": {
  "kernelspec": {
   "display_name": "Python 3",
   "language": "python",
   "name": "python3"
  },
  "language_info": {
   "codemirror_mode": {
    "name": "ipython",
    "version": 3
   },
   "file_extension": ".py",
   "mimetype": "text/x-python",
   "name": "python",
   "nbconvert_exporter": "python",
   "pygments_lexer": "ipython3",
   "version": "3.8.5"
  }
 },
 "nbformat": 4,
 "nbformat_minor": 4
}
